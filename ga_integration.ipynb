{
  "nbformat": 4,
  "nbformat_minor": 0,
  "metadata": {
    "colab": {
      "provenance": [],
      "authorship_tag": "ABX9TyMYKZD2axvLZxzGi0TWnjyH"
    },
    "kernelspec": {
      "name": "python3",
      "display_name": "Python 3"
    },
    "language_info": {
      "name": "python"
    }
  },
  "cells": [
    {
      "cell_type": "code",
      "source": [
        "!pip install beautifulsoup4==4.11.1\n",
        "!pip install cachetools==5.2.0\n",
        "!pip install certifi==2022.9.24\n",
        "!pip install charset-normalizer==2.1.1\n",
        "!pip install google-analytics-data==0.14.2\n",
        "!pip install google-api-core==2.10.2\n",
        "!pip install google-auth==2.13.0\n",
        "!pip install googleapis-common-protos==1.56.4\n",
        "!pip install grpcio==1.50.0\n",
        "!pip install grpcio-status==1.50.0\n",
        "!pip install hvac==1.0.2\n",
        "!pip install idna==3.4\n",
        "!pip install proto-plus==1.22.1\n",
        "!pip install protobuf==4.21.9\n",
        "!pip install pyasn1==0.4.8\n",
        "!pip install pyasn1-modules==0.2.8\n",
        "!pip install pyhcl==0.4.4\n",
        "!pip install python-dotenv==0.21.0\n",
        "!pip install requests==2.28.1\n",
        "!pip install rsa==4.9\n",
        "!pip install six==1.16.0\n",
        "!pip install soupsieve==2.3.2.post1\n",
        "!pip install urllib3==1.26.12"
      ],
      "metadata": {
        "id": "wqCT4T82Ehnu"
      },
      "execution_count": null,
      "outputs": []
    },
    {
      "cell_type": "code",
      "execution_count": null,
      "metadata": {
        "id": "7jxnH7SuCr4U"
      },
      "outputs": [],
      "source": [
        "import requests\n",
        "import json\n",
        "import os"
      ]
    },
    {
      "cell_type": "code",
      "source": [
        "GOOGLE_APPLICATION_CREDENTIALS=\"[credentials].json\"\n",
        "BASE_URL=\"[BASE_URL]\"\n",
        "GA_PROPERTY_ID=\"[GA_PROPERTY_ID]\""
      ],
      "metadata": {
        "id": "M_C6Oa7cGbtd"
      },
      "execution_count": null,
      "outputs": []
    },
    {
      "cell_type": "code",
      "source": [
        "def call_endpoints(url, action, payload):\n",
        "    endpoint = BASE_URL + url\n",
        "\n",
        "    if action == 'post':\n",
        "        response = requests.post(endpoint, data=payload)\n",
        "    elif action == 'put':\n",
        "        response = requests.put(endpoint, data=payload)\n",
        "    else:\n",
        "        response = requests.get(endpoint, data=payload)\n",
        "\n",
        "    return response"
      ],
      "metadata": {
        "id": "-6dpr2q6GJLX"
      },
      "execution_count": null,
      "outputs": []
    },
    {
      "cell_type": "code",
      "source": [
        "def get_data(start_date, end_date=None):\n",
        "    \"\"\"Runs a simple report on a Google Analytics 4 property.\"\"\"\n",
        "\n",
        "    if not end_date:\n",
        "        end_date = datetime.strptime(start_date, '%Y-%m-%d')\n",
        "        end_date = (end_date + timedelta(days=1))\n",
        "\n",
        "    end_date = end_date.strftime('%Y-%m-%d')\n",
        "\n",
        "    client = BetaAnalyticsDataClient()\n",
        "\n",
        "    request = RunReportRequest(\n",
        "        property=f\"properties/{GA_PROPERTY_ID}\",\n",
        "        dimensions=[Dimension(name=\"campaignId\"),\n",
        "                    Dimension(name=\"campaignName\"),\n",
        "                    Dimension(name=\"dateHour\")],\n",
        "        date_ranges=[DateRange(start_date=start_date, end_date=end_date)],\n",
        "    )\n",
        "\n",
        "    response = client.run_report(request)\n",
        "\n",
        "    results = []\n",
        "\n",
        "    for row in response.rows:\n",
        "        r = {\n",
        "            \"campaign_id\": row.dimension_values[0].value,\n",
        "            \"campaign_name\": row.dimension_values[1].value,\n",
        "            \"date_hour\": row.dimension_values[2].value\n",
        "        }\n",
        "        results.append(r)\n",
        "\n",
        "    return results"
      ],
      "metadata": {
        "id": "hUvzCoNQEqS6"
      },
      "execution_count": null,
      "outputs": []
    },
    {
      "cell_type": "code",
      "source": [
        "end_date = datetime.now()\n",
        "start_date = (end_date - timedelta(days=1)).strftime('%Y-%m-%d')\n",
        "\n",
        "sessions = (get_data(start_date, end_date))"
      ],
      "metadata": {
        "id": "jNyOQ5knF779"
      },
      "execution_count": null,
      "outputs": []
    }
  ]
}